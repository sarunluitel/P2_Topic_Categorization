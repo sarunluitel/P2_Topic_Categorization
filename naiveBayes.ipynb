{
 "cells": [
  {
   "cell_type": "code",
   "execution_count": 203,
   "metadata": {},
   "outputs": [],
   "source": [
    "from pandas import read_csv , concat\n",
    "import numpy as np\n",
    "from collections import Counter\n",
    "from pprint import pprint\n",
    "import math\n",
    "import csv\n",
    "import random\n",
    "from sklearn.model_selection import train_test_split\n",
    "from matplotlib import pyplot as plt"
   ]
  },
  {
   "cell_type": "code",
   "execution_count": 40,
   "metadata": {},
   "outputs": [],
   "source": [
    "# import the training data as chunks\n",
    "dataFrame = read_csv('data/training.csv',header = None, nrows = 300)"
   ]
  },
  {
   "cell_type": "code",
   "execution_count": 190,
   "metadata": {},
   "outputs": [],
   "source": [
    "def naiveBayes(traindf, testdf, validating = False, beta = 1):\n",
    "    print(beta)\n",
    "    \n",
    "    trainingLabels = traindf.iloc[:,-1].values\n",
    "    validatingLabels = testdf.iloc[:,-1].values\n",
    "    validatingLabelsNames = testdf.iloc[:,0].values\n",
    "    \n",
    "    validatingSet = dict([list(a) for a in zip(validatingLabelsNames, validatingLabels)])\n",
    "    \n",
    "    totalDocuments = len(trainingLabels)\n",
    "    totalValidationDocuments = len(validatingLabels)\n",
    "    \n",
    "    print(\"the length of trainningLabels is ====  \" + str(totalDocuments))\n",
    "    print(\"the length of ValidatingLabels is ====  \" + str(totalValidationDocuments))\n",
    "    \n",
    "    traindf.drop(traindf.columns[[-1,0]],axis = 1, inplace=True)\n",
    "    trainingClassCount = Counter()\n",
    "    for val in trainingLabels:\n",
    "        trainingClassCount[val] += 1\n",
    "    \n",
    "    allLabels = np.unique(trainingLabels)\n",
    "\n",
    "    totalClassCount = len(allLabels)\n",
    "    \n",
    "    sortedClassCount = sorted(trainingClassCount.items())\n",
    "\n",
    "    classCount = [y for (x,y) in sortedClassCount]\n",
    "    #print(classCount)\n",
    "    logPriorProb = [math.log(x/totalDocuments) for x in classCount]\n",
    "    \n",
    "    trainingMatrix = np.array(traindf.values)\n",
    "    totalWords = len(trainingMatrix[0])\n",
    "   \n",
    "    dividedOnClass = [[x for x, y in zip(trainingMatrix,trainingLabels) if y == c] for c in allLabels]\n",
    "    \n",
    "    tempTable = [np.array(val).sum(axis=0)for val in dividedOnClass]\n",
    "    \n",
    "    smoother = beta if validating else 1 / totalWords\n",
    "    #print(smoother)\n",
    "    smoothCount = np.array(tempTable) + smoother\n",
    "\n",
    "    totalWordInEachClass = [sum(val) for val in tempTable]\n",
    "    \n",
    "    totalWordInEachClassSmooth = np.array(totalWordInEachClass) + 1\n",
    "    \n",
    "    likelihood = np.array([ x / y for x , y in zip (smoothCount,totalWordInEachClassSmooth)])\n",
    "    logLikelihood = np.array([np.log(val) for val in likelihood])\n",
    "    \n",
    "    \n",
    "    testingDataFrame =  testdf.iloc[:, :-1]\n",
    "\n",
    "    testingId = testingDataFrame.iloc[:,0].values\n",
    "    #pprint(testingDataFrame)\n",
    "    #print(testingId)\n",
    "    testingDataFrame.drop(testingDataFrame.columns[0,],axis=1,inplace=True)\n",
    "    \n",
    "    testingVals = np.array(testingDataFrame.values)\n",
    "    #print(testingVals)\n",
    "    probEstimation = [logLikelihood.dot(val) for val in testingVals]\n",
    "\n",
    "    totalProbEstimation = [[x + y for x,y in zip(logPriorProb, val)] for val in probEstimation]\n",
    "    \n",
    "    \n",
    "    prediction = [val.index(max(val))+1 for val in totalProbEstimation]\n",
    "    \n",
    "    csvData = [ [docId , p]  for docId,p in zip (testingId,prediction)]\n",
    "    \n",
    "    return accuracy(actual = validatingSet, predicted = dict(csvData))\n"
   ]
  },
  {
   "cell_type": "code",
   "execution_count": 199,
   "metadata": {},
   "outputs": [],
   "source": [
    "def accuracy(predicted, actual):\n",
    "    totalwords = len(predicted)\n",
    "    correct = 0\n",
    "    \n",
    "    for key in actual.keys():\n",
    "        if actual.get(key) == predicted.get(key):\n",
    "            correct += 1\n",
    "    print(\"accuracy ==========\"+ str(correct/totalwords))\n",
    "    return (correct/totalwords)"
   ]
  },
  {
   "cell_type": "code",
   "execution_count": 206,
   "metadata": {},
   "outputs": [
    {
     "name": "stdout",
     "output_type": "stream",
     "text": [
      "1e-08\n",
      "the length of trainningLabels is ====  240\n",
      "the length of ValidatingLabels is ====  60\n",
      "accuracy ==========0.4166666666666667\n",
      "0.0002\n",
      "the length of trainningLabels is ====  240\n",
      "the length of ValidatingLabels is ====  60\n",
      "accuracy ==========0.4666666666666667\n",
      "0.0002\n",
      "the length of trainningLabels is ====  240\n",
      "the length of ValidatingLabels is ====  60\n",
      "accuracy ==========0.4666666666666667\n",
      "0.0003\n",
      "the length of trainningLabels is ====  240\n",
      "the length of ValidatingLabels is ====  60\n",
      "accuracy ==========0.4666666666666667\n",
      "0.0005\n",
      "the length of trainningLabels is ====  240\n",
      "the length of ValidatingLabels is ====  60\n",
      "accuracy ==========0.4666666666666667\n",
      "[-0.8754687373538999, -0.7621400520468967, -0.7621400520468967, -0.7621400520468967, -0.7621400520468967]\n"
     ]
    },
    {
     "data": {
      "image/png": "[encoded data removed]",
      "text/plain": [
       "<Figure size 432x288 with 1 Axes>"
      ]
     },
     "metadata": {
      "needs_background": "light"
     },
     "output_type": "display_data"
    }
   ],
   "source": [
    "trainingdf, testingdf = train_test_split(dataFrame, test_size=0.2)\n",
    "\n",
    "x = [0.00000001, 0.0002, 0.0002, 0.0003, 0.0005]\n",
    "y = [naiveBayes(traindf = trainingdf.copy(), testdf= testingdf.copy(), validating = True, beta = beta) for beta in x]\n",
    "\n",
    "y = list(map(math.log, y))\n",
    "print(y)\n",
    "\n",
    "plt.plot(x,y)\n",
    "plt.show()"
   ]
  },
  {
   "cell_type": "code",
   "execution_count": null,
   "metadata": {},
   "outputs": [],
   "source": []
  },
  {
   "cell_type": "code",
   "execution_count": null,
   "metadata": {},
   "outputs": [],
   "source": []
  },
  {
   "cell_type": "code",
   "execution_count": null,
   "metadata": {},
   "outputs": [],
   "source": [
    "\n",
    "#print(totalWords)\n",
    "#print(trainingMatrix)\n",
    "#print(\"the size of training matrix is:    \"  + str(len(trainingMatrix)) + \"  X  \" +  str(len(trainingMatrix[0])))"
   ]
  },
  {
   "cell_type": "code",
   "execution_count": null,
   "metadata": {},
   "outputs": [],
   "source": [
    "\n",
    "\n",
    "\n",
    "#pprint(dividedOnClass)\n",
    "#print(len(dividedOnClass))\n"
   ]
  },
  {
   "cell_type": "code",
   "execution_count": null,
   "metadata": {},
   "outputs": [],
   "source": [
    "\n",
    "\n",
    "#pprint (tempTable)"
   ]
  },
  {
   "cell_type": "code",
   "execution_count": null,
   "metadata": {},
   "outputs": [],
   "source": [
    "\n",
    "#pprint(smoothCount)\n",
    "#print(len(smoothCount))"
   ]
  },
  {
   "cell_type": "code",
   "execution_count": null,
   "metadata": {},
   "outputs": [],
   "source": [
    "\n",
    "    \n",
    "\n",
    "#pprint(totalWordInEachClass)"
   ]
  },
  {
   "cell_type": "code",
   "execution_count": null,
   "metadata": {},
   "outputs": [],
   "source": [
    "\n",
    "#print(totalWordInEachClassSmooth)\n"
   ]
  },
  {
   "cell_type": "code",
   "execution_count": null,
   "metadata": {},
   "outputs": [],
   "source": [
    "\n",
    "#pprint(likelihood)\n",
    "#print(len(likelihood))"
   ]
  },
  {
   "cell_type": "code",
   "execution_count": null,
   "metadata": {
    "scrolled": true
   },
   "outputs": [],
   "source": [
    "\n",
    "#pprint(logLikelihood)\n",
    "#print(len(logLikelihood))"
   ]
  },
  {
   "cell_type": "code",
   "execution_count": null,
   "metadata": {},
   "outputs": [],
   "source": [
    "\n",
    "#pprint(logLikelihood)"
   ]
  },
  {
   "cell_type": "code",
   "execution_count": null,
   "metadata": {},
   "outputs": [],
   "source": [
    "#testingDataFrame = read_csv('data/testing.csv', header = None)\n",
    "\n"
   ]
  },
  {
   "cell_type": "code",
   "execution_count": null,
   "metadata": {},
   "outputs": [],
   "source": [
    "\n",
    "\n",
    "#print(testingDataFrame)\n"
   ]
  },
  {
   "cell_type": "code",
   "execution_count": null,
   "metadata": {},
   "outputs": [],
   "source": [
    "\n",
    "#print(probEstimation)\n",
    "\n",
    "\n"
   ]
  },
  {
   "cell_type": "code",
   "execution_count": null,
   "metadata": {
    "scrolled": false
   },
   "outputs": [],
   "source": [
    "\n",
    "#print(totalProbEstimation)"
   ]
  },
  {
   "cell_type": "code",
   "execution_count": null,
   "metadata": {},
   "outputs": [],
   "source": []
  },
  {
   "cell_type": "code",
   "execution_count": null,
   "metadata": {},
   "outputs": [],
   "source": [
    "\n",
    "#print(prediction)"
   ]
  },
  {
   "cell_type": "code",
   "execution_count": null,
   "metadata": {},
   "outputs": [],
   "source": [
    "\n"
   ]
  },
  {
   "cell_type": "code",
   "execution_count": null,
   "metadata": {},
   "outputs": [],
   "source": [
    "csvData = [['id','class']] + csvData\n",
    "with open('data/submission.csv', 'w',newline='') as csvFile:\n",
    "    \n",
    "    writer = csv.writer(csvFile)\n",
    "    writer.writerows(csvData)\n",
    "\n",
    "csvFile.close()"
   ]
  },
  {
   "cell_type": "code",
   "execution_count": null,
   "metadata": {},
   "outputs": [],
   "source": [
    "import matplotlib.pyplot as plt\n",
    "import math\n",
    "x=list(range(-4, 4))\n",
    "def function(x):\n",
    "    return math.sin(x)\n",
    "y= list(map(function, x))\n",
    "plt.plot(x,y)\n",
    "plt.show()"
   ]
  },
  {
   "cell_type": "code",
   "execution_count": null,
   "metadata": {},
   "outputs": [],
   "source": []
  }
 ],
 "metadata": {
  "kernelspec": {
   "display_name": "Python 3",
   "language": "python",
   "name": "python3"
  },
  "language_info": {
   "codemirror_mode": {
    "name": "ipython",
    "version": 3
   },
   "file_extension": ".py",
   "mimetype": "text/x-python",
   "name": "python",
   "nbconvert_exporter": "python",
   "pygments_lexer": "ipython3",
   "version": "3.7.0"
  }
 },
 "nbformat": 4,
 "nbformat_minor": 1
}
